{
  "nbformat": 4,
  "nbformat_minor": 0,
  "metadata": {
    "colab": {
      "name": "VideoDataGenerator.ipynb",
      "provenance": [],
      "collapsed_sections": [],
      "include_colab_link": true
    },
    "kernelspec": {
      "name": "python3",
      "display_name": "Python 3"
    },
    "language_info": {
      "name": "python"
    },
    "accelerator": "GPU"
  },
  "cells": [
    {
      "cell_type": "markdown",
      "metadata": {
        "id": "view-in-github",
        "colab_type": "text"
      },
      "source": [
        "<a href=\"https://colab.research.google.com/github/Oussamayousre/DLL/blob/version_2/VideoDataGenerator.ipynb\" target=\"_parent\"><img src=\"https://colab.research.google.com/assets/colab-badge.svg\" alt=\"Open In Colab\"/></a>"
      ]
    },
    {
      "cell_type": "code",
      "metadata": {
        "id": "3X8CCOVEQZNG",
        "colab": {
          "base_uri": "https://localhost:8080/"
        },
        "outputId": "03bb410a-6d1a-4d4d-9259-ad21ee717077"
      },
      "source": [
        "from google.colab import drive\n",
        "drive.mount('/content/gdrive')"
      ],
      "execution_count": null,
      "outputs": [
        {
          "output_type": "stream",
          "text": [
            "Mounted at /content/gdrive\n"
          ],
          "name": "stdout"
        }
      ]
    },
    {
      "cell_type": "code",
      "metadata": {
        "id": "Zh1AMeGF-9Qi"
      },
      "source": [
        "!git clone https://github.com/metal3d/keras-video-generators.git  \n",
        "\n"
      ],
      "execution_count": null,
      "outputs": []
    },
    {
      "cell_type": "code",
      "metadata": {
        "id": "PyAeektVCb0Y"
      },
      "source": [
        "!pip install keras-video-generators\n"
      ],
      "execution_count": null,
      "outputs": []
    },
    {
      "cell_type": "code",
      "metadata": {
        "id": "QtTJM8lQm5VP"
      },
      "source": [
        "import math   # for mathematical operations\n",
        "import matplotlib.pyplot as plt    # for plotting the images\n",
        "%matplotlib inline\n",
        "import pandas as pd\n",
        "from keras.preprocessing import image   # for preprocessing the images\n",
        "import numpy as np    # for mathematical operations\n",
        "from keras.utils import np_utils\n",
        "from skimage.transform import resize   # for resizing images\n",
        "from sklearn.model_selection import train_test_split\n",
        "from glob import glob\n",
        "from tqdm import tqdm\n",
        "\n",
        "import keras\n",
        "from keras.models import Sequential\n",
        "from keras.applications.vgg16 import VGG16\n",
        "from keras.layers import Dense, InputLayer, Dropout, Flatten\n",
        "from keras.layers import Conv2D, MaxPooling2D, GlobalMaxPooling2D\n",
        "from keras.preprocessing import image\n",
        "from keras.models import Sequential\n",
        "from keras.layers import Conv2D, MaxPooling2D\n",
        "from keras.layers import Activation, Dropout, Flatten, Dense\n",
        "from keras.regularizers import l2\n",
        "from keras.preprocessing.image import ImageDataGenerator, array_to_img, img_to_array, load_img\n",
        "import numpy as np\n",
        "import pandas as pd\n",
        "import matplotlib.pyplot as plt\n",
        "from tqdm import tqdm\n",
        "from sklearn.model_selection import train_test_split\n",
        "\n",
        "from tensorflow.keras.preprocessing.image import ImageDataGenerator\n",
        "from tensorflow.keras.applications import VGG16\n",
        "from tensorflow.keras.layers import Dropout\n",
        "from tensorflow.keras.layers import Flatten\n",
        "from tensorflow.keras.layers import Dense\n",
        "from tensorflow.keras.layers import Input\n",
        "from tensorflow.keras.models import Model\n",
        "import tensorflow as tf\n",
        "from tensorflow.keras.utils import Sequence\n",
        "from tensorflow.keras import datasets ,layers,models\n",
        "\n",
        "from tensorflow.keras.optimizers import SGD\n",
        "from sklearn.metrics import classification_report\n",
        "\n",
        "from tensorflow.keras.models import Sequential\n",
        "from scipy.spatial import distance as dist\n",
        "from imutils.video import FileVideoStream\n",
        "from scipy.signal import argrelextrema\n",
        "from imutils.video import VideoStream\n",
        "#from keras_video import VideoFrameGenerator\n",
        "from imutils import face_utils\n",
        "import numpy as np\n",
        "import argparse\n",
        "#import imutils\n",
        "import time\n",
        "import dlib\n",
        "import cv2\n",
        "import os\n",
        "import glob\n",
        "\n",
        "\n",
        "# calculate a face embedding for each face in the dataset using facenet\n",
        "from numpy import load\n",
        "from numpy import expand_dims\n",
        "from numpy import asarray\n",
        "from numpy import savez_compressed\n",
        "from keras.models import load_model\n",
        "\n",
        "# calculate a face embedding for each face in the dataset using facenet\n",
        "from numpy import load\n",
        "from numpy import expand_dims\n",
        "from numpy import asarray\n",
        "from numpy import savez_compressed\n",
        "from keras.models import load_model"
      ],
      "execution_count": null,
      "outputs": []
    },
    {
      "cell_type": "code",
      "metadata": {
        "id": "esjgoJZ01Kkx"
      },
      "source": [
        "\"\"\"arr = os.listdir(\"/content/gdrive/MyDrive/DataBase\")\n",
        "#label_train  = np.array([])\n",
        "#Frame_train = np.array([])\n",
        "i = 0\n",
        "for path_1 in arr :\n",
        "\n",
        "  \n",
        "  \n",
        "  #print(arr)\n",
        "  #verify if the path is a directory or just a hidden file\n",
        "  full_path_1 = f\"/content/gdrive/MyDrive/DataBase/{path_1}\" \n",
        "  isDirectory = os.path.isdir(full_path_1)\n",
        "  if isDirectory : \n",
        "    arr_1 = os.listdir(full_path_1)\n",
        "    \n",
        "    for path_2 in arr_1 : \n",
        "      full_path_2 = f\"/content/gdrive/MyDrive/DataBase/{path_1}/{path_2}\" \n",
        "      arr_2 = os.listdir(full_path_2)\n",
        "      \n",
        "      for path_3 in arr_2 :\n",
        "        i += 1 \n",
        "        label_train  = []\n",
        "        Frame_train = [] \n",
        "        #).reshape(0,1).astype(np.int64)\n",
        "        label = int(os.path.splitext(path_3)[0])\n",
        "        full_path_2 = f\"/content/gdrive/MyDrive/DataBase/{path_1}/{path_2}/{path_3}\"\n",
        "        \n",
        "        vs = cv2.VideoCapture(full_path_2)\n",
        "        while True :\n",
        "          ret, image = vs.read()\n",
        "          if ret == False : \n",
        "            break\n",
        "          image = cv2.cvtColor(image, cv2.COLOR_BGR2RGB)\n",
        "          image = cv2.resize(image, (224, 224))\n",
        "          #image = image.img_to_array(image)\n",
        "          label_train.append(label)\n",
        "          Frame_train.append(image)\n",
        "        #train classes \n",
        "        np.save(f'/content/gdrive/MyDrive/variables/X_dataset{i}.npy', Frame_train) # save\n",
        "        #train labels\n",
        "        np.save(f'/content/gdrive/MyDrive/variables/y_dataset{i}.npy', label_train) # save\n",
        "        vs.release()\n",
        "        cv2.destroyAllWindows()\"\"\""
      ],
      "execution_count": null,
      "outputs": []
    },
    {
      "cell_type": "code",
      "metadata": {
        "id": "ey_zVePI3a_d"
      },
      "source": [
        "#next step is to collect all the videos in one folder and take the first character of their name which is the label \n",
        "import numpy as np\n",
        "import keras\n",
        "#path to video's folder\n",
        "path = '/content/gdrive/MyDrive/variables/Fold2_part2'\n",
        "#\n",
        "train_ID = os.listdir(path)[1:]\n",
        "class VideoFrameGenerator(Sequence):\n",
        "    'Generates data for Keras'\n",
        "    def __init__(self,train_ID, batch_size=1, dim=(56,56), shuffle=True ):\n",
        "        'Initialization'\n",
        "        self.batch_size = batch_size\n",
        "        self.train_ID = train_ID   \n",
        "        self.shuffle = shuffle\n",
        "        self.dim = dim\n",
        "        self.on_epoch_end()\n",
        "    def __len__(self):\n",
        "        'Denotes the number of batches per epoch'\n",
        "        return int(np.floor(len(self.train_ID) / self.batch_size))\n",
        "\n",
        "    def __getitem__(self, index):\n",
        "        'Generate one batch of data'\n",
        "        # Generate indexes of the batch\n",
        "        indexes = self.indexes[index*self.batch_size:(index+1)*self.batch_size]\n",
        "\n",
        "        # Find list of IDs\n",
        "        list_IDs_temp = [self.train_ID[k] for k in indexes]\n",
        "        #list_IDs_temp = [20]\n",
        "        # Generate data\n",
        "        X, y = self.__data_generation(list_IDs_temp)\n",
        "        X =  np.array([X])[0]\n",
        "        y =  np.array([y])\n",
        "        y = y.reshape(y.shape[1],1)\n",
        "        randomize = np.arange(y.shape[0])\n",
        "        np.random.shuffle(randomize)\n",
        "        X = X[randomize]\n",
        "        y = y[randomize]\n",
        "        return X , y \n",
        "\n",
        "    def on_epoch_end(self):\n",
        "        'Updates indexes after each epoch'\n",
        "        self.indexes = np.arange(len(self.train_ID))\n",
        "        if self.shuffle == True:\n",
        "            np.random.shuffle(self.indexes)\n",
        "\n",
        "    def __data_generation(self, list_IDs_temp):\n",
        "\n",
        "        'Generates data containing batch_size samples' # X : (n_samples, *dim, n_channels)\n",
        "        # Initialization\n",
        "        #X = np.empty((self.batch_size, *self.dim, self.n_channels))\n",
        "        #y = np.empty((self.batch_size), dtype=int)\n",
        "        arr_1 = os.listdir(f'/content/gdrive/MyDrive/variables/Fold2_part2/{list_IDs_temp[0]}')\n",
        "        label_train  = []\n",
        "        Frame_train = [] \n",
        "        # Generate data\n",
        "        for path_3 in arr_1 : \n",
        "          #).reshape(0,1).astype(np.int64)\n",
        "          label = int(os.path.splitext(path_3)[0])\n",
        "          full_path_2 = f\"/content/gdrive/MyDrive/variables/Fold2_part2/{list_IDs_temp[0]}/{path_3}\"\n",
        "          vs = cv2.VideoCapture(full_path_2)\n",
        "          nb_frame = 0\n",
        "          while True :\n",
        "            ret, image = vs.read()\n",
        "            if ret == False  or nb_frame == 1000  : \n",
        "              break\n",
        "            image = cv2.cvtColor(image, cv2.COLOR_BGR2RGB)\n",
        "            image = cv2.resize(image, self.dim)\n",
        "            #image = image.img_to_array(image)\n",
        "            label_train.append(label)\n",
        "            Frame_train.append(image)\n",
        "            nb_frame += 1\n",
        "          vs.release()\n",
        "          cv2.destroyAllWindows()\n",
        "        return Frame_train, label_train\n",
        "     \n"
      ],
      "execution_count": null,
      "outputs": []
    },
    {
      "cell_type": "code",
      "metadata": {
        "id": "4WQjd3_uDlxR"
      },
      "source": [
        "path = '/content/gdrive/MyDrive/variables/Fold2_part2'\n",
        "train_ID = os.listdir(path)[1:]\n",
        "\n",
        "# Parameters\n",
        "params = {'dim': (56,56),\n",
        "          'batch_size': 1,\n",
        "          'shuffle': True}\n",
        "training_generator = VideoFrameGenerator(train_ID, **params)\n",
        "validation_generator = VideoFrameGenerator([19], **params)\n",
        " "
      ],
      "execution_count": null,
      "outputs": []
    },
    {
      "cell_type": "code",
      "metadata": {
        "id": "AauwousQJoKk"
      },
      "source": [
        "\"\"\"model = tf.keras.models.Sequential([\n",
        "              tf.keras.layers.Conv2D(32, (3,3) , activation = 'relu' ,padding='same', input_shape = (56,56,3), kernel_regularizer=l2(0.01) ),\n",
        "              tf.keras.layers.MaxPool2D(pool_size=(2, 2) ),\n",
        "              #\n",
        "              tf.keras.layers.Conv2D(32 , (3,3) ,padding='same', activation = 'relu',kernel_regularizer=l2(0.01)),\n",
        "              tf.keras.layers.MaxPool2D(pool_size=(2, 2), padding='same'),\n",
        "              #\n",
        "              tf.keras.layers.Conv2D(64 , (3,3) , activation = 'relu', padding='same', kernel_regularizer=l2(0.01)),\n",
        "              #tf.keras.layers.Dropout(0.2),\n",
        "              tf.keras.layers.MaxPool2D(pool_size=(2, 2), padding='same'),\n",
        "              #\n",
        "            \n",
        "              #\n",
        "              #  tf.keras.layers.Conv2D(256 , (3,3) , activation = 'relu'),\n",
        "              #  tf.keras.layers.Dropout(0.2),\n",
        "              # tf.keras.layers.BatchNormalization() ,\n",
        "              # tf.keras.layers.MaxPool2D(2,2),\n",
        "              #\n",
        "              tf.keras.layers.Flatten(),\n",
        "              ##\n",
        "              tf.keras.layers.Dense(64 , activation = 'relu', kernel_regularizer=l2(0.01)),\n",
        "              #tf.keras.layers.Dropout(0.2),\n",
        "              tf.keras.layers.Dense(11,activation = 'softmax' ) ]\n",
        "               \n",
        "    )\n",
        "model.summary()\"\"\"\n"
      ],
      "execution_count": null,
      "outputs": []
    },
    {
      "cell_type": "code",
      "metadata": {
        "id": "Bf0F1fymKKiP"
      },
      "source": [
        "\"\"\"opt = tf.keras.optimizers.Adam(learning_rate=0.001)\n",
        "\n",
        "model.compile(optimizer = opt, loss='sparse_categorical_crossentropy', metrics=['accuracy'])\n",
        "history = model.fit(training_generator, validation_data=validation_generator, epochs = 10 )\n",
        "#change 56 to 224 first thing to do \n",
        "history\"\"\""
      ],
      "execution_count": null,
      "outputs": []
    },
    {
      "cell_type": "code",
      "metadata": {
        "id": "3LLvQ_K7g_Wi"
      },
      "source": [
        "x ,y = training_generator.__getitem__(0)\n"
      ],
      "execution_count": null,
      "outputs": []
    },
    {
      "cell_type": "markdown",
      "metadata": {
        "id": "J_eXmU4LjcAg"
      },
      "source": [
        "##############################################################\n",
        "---\n",
        "\n",
        "\n",
        "\n",
        "---\n",
        "\n"
      ]
    },
    {
      "cell_type": "code",
      "metadata": {
        "colab": {
          "base_uri": "https://localhost:8080/"
        },
        "id": "g7QeXOoFgdu2",
        "outputId": "4e0eb3c2-5902-47f7-a8fe-31443d7df56c"
      },
      "source": [
        "!pip install mtcnn"
      ],
      "execution_count": null,
      "outputs": [
        {
          "output_type": "stream",
          "text": [
            "Collecting mtcnn\n",
            "  Downloading mtcnn-0.1.1-py3-none-any.whl (2.3 MB)\n",
            "\u001b[K     |████████████████████████████████| 2.3 MB 9.1 MB/s \n",
            "\u001b[?25hRequirement already satisfied: opencv-python>=4.1.0 in /usr/local/lib/python3.7/dist-packages (from mtcnn) (4.1.2.30)\n",
            "Requirement already satisfied: keras>=2.0.0 in /usr/local/lib/python3.7/dist-packages (from mtcnn) (2.4.3)\n",
            "Requirement already satisfied: h5py in /usr/local/lib/python3.7/dist-packages (from keras>=2.0.0->mtcnn) (3.1.0)\n",
            "Requirement already satisfied: scipy>=0.14 in /usr/local/lib/python3.7/dist-packages (from keras>=2.0.0->mtcnn) (1.4.1)\n",
            "Requirement already satisfied: pyyaml in /usr/local/lib/python3.7/dist-packages (from keras>=2.0.0->mtcnn) (3.13)\n",
            "Requirement already satisfied: numpy>=1.9.1 in /usr/local/lib/python3.7/dist-packages (from keras>=2.0.0->mtcnn) (1.19.5)\n",
            "Requirement already satisfied: cached-property in /usr/local/lib/python3.7/dist-packages (from h5py->keras>=2.0.0->mtcnn) (1.5.2)\n",
            "Installing collected packages: mtcnn\n",
            "Successfully installed mtcnn-0.1.1\n"
          ],
          "name": "stdout"
        }
      ]
    },
    {
      "cell_type": "code",
      "metadata": {
        "colab": {
          "base_uri": "https://localhost:8080/"
        },
        "id": "ZRXbkGEKgmYW",
        "outputId": "b859085f-4a76-49f2-948c-d13126cea727"
      },
      "source": [
        "! pip install gdown"
      ],
      "execution_count": null,
      "outputs": [
        {
          "output_type": "stream",
          "text": [
            "Requirement already satisfied: gdown in /usr/local/lib/python3.7/dist-packages (3.6.4)\n",
            "Requirement already satisfied: six in /usr/local/lib/python3.7/dist-packages (from gdown) (1.15.0)\n",
            "Requirement already satisfied: tqdm in /usr/local/lib/python3.7/dist-packages (from gdown) (4.41.1)\n",
            "Requirement already satisfied: requests in /usr/local/lib/python3.7/dist-packages (from gdown) (2.23.0)\n",
            "Requirement already satisfied: chardet<4,>=3.0.2 in /usr/local/lib/python3.7/dist-packages (from requests->gdown) (3.0.4)\n",
            "Requirement already satisfied: idna<3,>=2.5 in /usr/local/lib/python3.7/dist-packages (from requests->gdown) (2.10)\n",
            "Requirement already satisfied: certifi>=2017.4.17 in /usr/local/lib/python3.7/dist-packages (from requests->gdown) (2021.5.30)\n",
            "Requirement already satisfied: urllib3!=1.25.0,!=1.25.1,<1.26,>=1.21.1 in /usr/local/lib/python3.7/dist-packages (from requests->gdown) (1.24.3)\n"
          ],
          "name": "stdout"
        }
      ]
    },
    {
      "cell_type": "code",
      "metadata": {
        "colab": {
          "base_uri": "https://localhost:8080/"
        },
        "id": "ioQMCmWcgjVw",
        "outputId": "765d1429-a839-4a45-c37a-40313569669f"
      },
      "source": [
        "# confirm mtcnn was installed correctly\n",
        "import mtcnn\n",
        "# print version\n",
        "print(mtcnn.__version__)"
      ],
      "execution_count": null,
      "outputs": [
        {
          "output_type": "stream",
          "text": [
            "0.1.0\n"
          ],
          "name": "stdout"
        }
      ]
    },
    {
      "cell_type": "code",
      "metadata": {
        "colab": {
          "base_uri": "https://localhost:8080/"
        },
        "id": "LfP21302hxp5",
        "outputId": "c9cf54c4-72da-4369-e387-4fed3941228a"
      },
      "source": [
        "#model 1(facenet on tensorflow v1.x)\n",
        "import gdown\n",
        "!gdown --id 1PZ_6Zsy1Vb0s0JmjEmVd8FS99zoMCiN1"
      ],
      "execution_count": null,
      "outputs": [
        {
          "output_type": "stream",
          "text": [
            "Downloading...\n",
            "From: https://drive.google.com/uc?id=1PZ_6Zsy1Vb0s0JmjEmVd8FS99zoMCiN1\n",
            "To: /content/facenet_keras.h5\n",
            "92.4MB [00:01, 63.0MB/s]\n"
          ],
          "name": "stdout"
        }
      ]
    },
    {
      "cell_type": "code",
      "metadata": {
        "colab": {
          "base_uri": "https://localhost:8080/"
        },
        "id": "sTSOmSXyAZCO",
        "outputId": "44d15865-100f-488f-f6c6-b81a4247b39c"
      },
      "source": [
        "!gdown --id 1W_Kv4vKgKvGf0JU1zSYkvlv_1MpCmg5S"
      ],
      "execution_count": null,
      "outputs": [
        {
          "output_type": "stream",
          "text": [
            "Downloading...\n",
            "From: https://drive.google.com/uc?id=1W_Kv4vKgKvGf0JU1zSYkvlv_1MpCmg5S\n",
            "To: /content/facenet_keras_weights.h5\n",
            "92.2MB [00:00, 101MB/s] \n"
          ],
          "name": "stdout"
        }
      ]
    },
    {
      "cell_type": "code",
      "metadata": {
        "id": "KrNBLordieH1"
      },
      "source": [
        "from PIL import Image\n",
        "from numpy import asarray\n",
        "from mtcnn.mtcnn import MTCNN\n",
        "\n",
        "# extract a single face from a given photograph\n",
        "def extract_face(pixels, required_size=(160, 160)): \n",
        "    # create the detector, using default weights   \n",
        "    # detect faces in the image\n",
        "    results = detector.detect_faces(pixels)\n",
        "    if len(results) == 0 : \n",
        "      return np.array([]).reshape(0, 160, 160, 3)\n",
        "    # extract the bounding box from the first face\n",
        "    x1, y1, width, height = results[0]['box']\n",
        "    # bug fix\n",
        "    x1, y1 = abs(x1), abs(y1)\n",
        "    x2, y2 = x1 + width, y1 + height\n",
        "    # extract the face\n",
        "    face = pixels[y1:y2, x1:x2]\n",
        "    # resize pixels to the model size\n",
        "    image = Image.fromarray(face)\n",
        "    image = image.resize(required_size)\n",
        "    face_array = asarray(image)\n",
        "    return face_array\n",
        " \n",
        "# load the photo and extract the face"
      ],
      "execution_count": null,
      "outputs": []
    },
    {
      "cell_type": "code",
      "metadata": {
        "colab": {
          "base_uri": "https://localhost:8080/"
        },
        "id": "TNp6tcQ-h0Oz",
        "outputId": "ac27e549-c007-49c6-d8bb-f81e253ff844"
      },
      "source": [
        "\n",
        "model_facenet = tf.keras.models.load_model('/content/facenet_keras.h5')\n",
        "print('Loaded Model')"
      ],
      "execution_count": null,
      "outputs": [
        {
          "output_type": "stream",
          "text": [
            "WARNING:tensorflow:No training configuration found in the save file, so the model was *not* compiled. Compile it manually.\n",
            "Loaded Model\n"
          ],
          "name": "stdout"
        }
      ]
    },
    {
      "cell_type": "code",
      "metadata": {
        "colab": {
          "base_uri": "https://localhost:8080/"
        },
        "id": "wQkZhjh7h2kh",
        "outputId": "d91c0560-6d9e-4474-ac8b-c0be91285c4a"
      },
      "source": [
        "print(model_facenet.inputs)\n",
        "print(model_facenet.outputs)"
      ],
      "execution_count": null,
      "outputs": [
        {
          "output_type": "stream",
          "text": [
            "[<KerasTensor: shape=(None, 160, 160, 3) dtype=float32 (created by layer 'input_1')>]\n",
            "[<KerasTensor: shape=(None, 128) dtype=float32 (created by layer 'Bottleneck_BatchNorm')>]\n"
          ],
          "name": "stdout"
        }
      ]
    },
    {
      "cell_type": "code",
      "metadata": {
        "id": "dI62bCi0iShx"
      },
      "source": [
        "# get the face embedding for one face\n",
        "def get_embedding(model_facenet , face_pixels):\n",
        "    # scale pixel values\n",
        "    face_pixels = face_pixels.astype('float32')\n",
        "    # standardize pixel values across channels (global)\n",
        "    mean, std = face_pixels.mean(), face_pixels.std()\n",
        "    face_pixels = (face_pixels - mean) / std\n",
        "    # transform face into one sample\n",
        "    samples = expand_dims(face_pixels, axis=0)\n",
        "    # make prediction to get embedding\n",
        "    yhat = model_facenet.predict(samples)\n",
        "    return yhat[0]"
      ],
      "execution_count": null,
      "outputs": []
    },
    {
      "cell_type": "markdown",
      "metadata": {
        "id": "IwxOfN1SkHDK"
      },
      "source": [
        "### test code "
      ]
    },
    {
      "cell_type": "code",
      "metadata": {
        "colab": {
          "base_uri": "https://localhost:8080/"
        },
        "id": "lieRQsP7iWmv",
        "outputId": "cf327007-b002-4a4d-a90d-2d55a57c8cb1"
      },
      "source": [
        "arr_1 = os.listdir('/content/gdrive/MyDrive/variables/Fold3_part1/25')\n",
        "detector = MTCNN()\n",
        "# Generate data\n",
        "for path_3 in arr_1 : \n",
        "  label_train  = np.array([])\n",
        "  Frame_train = np.array([]).reshape(0,128)\n",
        "  #).reshape(0,1).astype(np.int64)\n",
        "  label = int(os.path.splitext(path_3)[0])\n",
        "  full_path_2 = f\"/content/gdrive/MyDrive/variables/Fold3_part1/25/{path_3}\"\n",
        "  #print(label)\n",
        "  vs = cv2.VideoCapture(full_path_2)\n",
        "  nb_frame = 0\n",
        "  #detector = MTCNN()\n",
        "\n",
        "  while True :\n",
        "    \n",
        "    ret, image = vs.read()\n",
        "    if ret == False or nb_frame == 3 : \n",
        "      break\n",
        "    image = cv2.cvtColor(image, cv2.COLOR_BGR2RGB)\n",
        "    #print(image.shape)\n",
        "    image = extract_face(image,required_size=(160, 160))\n",
        "    print(image.shape)\n",
        "    if len(image) == 0  :                \n",
        "        #face_features = np.array([]).reshape(0,128)\n",
        "        nb_frame += 1\n",
        "    else : \n",
        "        face_features = get_embedding(model_facenet , image)             \n",
        "        face_features = np.array(face_features) \n",
        "        face_features = face_features.reshape(1,128)\n",
        "        label_train = np.append(label_train , label)\n",
        "        Frame_train = np.append(Frame_train , face_features ,axis=0)\n",
        "        nb_frame += 1\n",
        "    #image = image.img_to_array(image)\n",
        "    #label_train = np.append(label_train , label)\n",
        "    #Frame_train = np.append(Frame_train , face_features ,axis=0)\n",
        "     \n",
        "  vs.release()\n",
        "  cv2.destroyAllWindows()"
      ],
      "execution_count": null,
      "outputs": [
        {
          "output_type": "stream",
          "text": [
            "(160, 160, 3)\n",
            "(160, 160, 3)\n",
            "(160, 160, 3)\n",
            "(0, 160, 160, 3)\n",
            "(0, 160, 160, 3)\n",
            "(0, 160, 160, 3)\n",
            "(160, 160, 3)\n",
            "(160, 160, 3)\n",
            "(160, 160, 3)\n"
          ],
          "name": "stdout"
        }
      ]
    },
    {
      "cell_type": "code",
      "metadata": {
        "id": "qVi5BRfTI11H"
      },
      "source": [
        "#next step is to collect all the videos in one folder and take the first character of their name which is the label \n",
        "#path to videos folder\n",
        "path = '/content/gdrive/MyDrive/variables/Fold2_part2'\n",
        "#list of subfolders ID, os.listdir(path)[0] is for the validation data\n",
        "train_ID = os.listdir(path)[1:]\n",
        "class VideoFrameGenerator(Sequence):\n",
        "    'Generates data for Keras'\n",
        "    def __init__(self,train_ID , model_facenet ,detector = MTCNN(), batch_size=1, dim=(56,56), shuffle=True):\n",
        "        'Initialization'\n",
        "        self.batch_size = batch_size\n",
        "        self.train_ID = train_ID   \n",
        "        self.shuffle = shuffle\n",
        "        self.model_facenet = model_facenet\n",
        "        self.dim = dim\n",
        "        self.on_epoch_end()\n",
        "    def __len__(self):\n",
        "        'Denotes the number of batches per epoch'\n",
        "        return int(np.floor(len(self.train_ID) / self.batch_size))\n",
        "\n",
        "    def __getitem__(self, index):\n",
        "        'Generate one batch of data'\n",
        "        # Generate indexes of the batch\n",
        "        indexes = self.indexes[index*self.batch_size:(index+1)*self.batch_size]\n",
        "\n",
        "        # Find list of IDs\n",
        "        list_IDs_temp = [self.train_ID[k] for k in indexes]\n",
        "        #list_IDs_temp = [20]\n",
        "        # Generate data\n",
        "        X, y = self.__data_generation(list_IDs_temp)\n",
        "        #X =  np.array([X])[0]\n",
        "        #y =  np.array([y])\n",
        "        #y = y.reshape(y.shape[1],1)\n",
        "        print(X.shape)\n",
        "        print(y.shape)\n",
        "        return X , y \n",
        "\n",
        "    def on_epoch_end(self):\n",
        "        'Updates indexes after each epoch'\n",
        "        self.indexes = np.arange(len(self.train_ID))\n",
        "        if self.shuffle == True:\n",
        "            np.random.shuffle(self.indexes)\n",
        "\n",
        "    def __data_generation(self, list_IDs_temp):\n",
        "\n",
        "        'Generates data containing batch_size samples' # X : (n_samples, *dim, n_channels)\n",
        "        # Initialization\n",
        "        #X = np.empty((self.batch_size, *self.dim, self.n_channels))\n",
        "        #y = np.empty((self.batch_size), dtype=int)\n",
        "        arr_1 = os.listdir(f'/content/gdrive/MyDrive/variables/Fold2_part2/{list_IDs_temp[0]}')\n",
        "        # Generate data\n",
        "        label_train  = np.array([]).reshape(0,1)\n",
        "        Frame_train = np.array([]).reshape(0,128)\n",
        "        for path_3 in arr_1 :\n",
        "            #labeling the data using the title of videos \n",
        "            label = int(os.path.splitext(path_3)[0])\n",
        "            full_path_2 = f'/content/gdrive/MyDrive/variables/Fold2_part2/{list_IDs_temp[0]}/{path_3}'\n",
        "            # Opens the Video file\n",
        "            \n",
        "            vs = cv2.VideoCapture(full_path_2)\n",
        "            nb_frame = 1        \n",
        "            while True :    \n",
        "                ret, image = vs.read()\n",
        "                if ret == False or nb_frame == 3 : \n",
        "                    break\n",
        "                \n",
        "                image = cv2.cvtColor(image, cv2.COLOR_BGR2RGB)\n",
        "                #print(image.shape)\n",
        "                image = extract_face(image,required_size=(160, 160))\n",
        "                #image = cv2.resize(image, (160,160))\n",
        "                if not image :                \n",
        "                    #face_features = np.array([]).reshape(0,128)\n",
        "                    nb_frame += 1 \n",
        "                else : \n",
        "                    face_features = get_embedding(self.model_facenet , image)             \n",
        "                    face_features = np.array(face_features) \n",
        "                    face_features = face_features.reshape(1,128)\n",
        "                    label_train = np.append(label_train , label)\n",
        "                    Frame_train = np.append(Frame_train , face_features ,axis=0)\n",
        "                    nb_frame += 1 \n",
        "                #image = image.img_to_array(image)\n",
        "                #label_train = np.append(label_train , label)\n",
        "                #Frame_train = np.append(Frame_train , face_features ,axis=0)\n",
        "                \n",
        "            vs.release()\n",
        "            cv2.destroyAllWindows()\n",
        "        return Frame_train, label_train.reshape(label_train.shape[0]).astype(int)\n",
        "     \n"
      ],
      "execution_count": null,
      "outputs": []
    },
    {
      "cell_type": "code",
      "metadata": {
        "id": "CfkOqeWHRlnj"
      },
      "source": [
        "path = '/content/gdrive/MyDrive/variables/Fold2_part2'\n",
        "train_ID = os.listdir(path)[1:]\n",
        "\n",
        "# Parameters\n",
        "params = {'model_facenet' : model_facenet , \n",
        "          'batch_size': 1,\n",
        "          'shuffle': True}\n",
        "training_generator = VideoFrameGenerator(train_ID, **params)\n",
        "validation_generator = VideoFrameGenerator([os.listdir(path)[0]], **params)\n",
        " "
      ],
      "execution_count": null,
      "outputs": []
    },
    {
      "cell_type": "code",
      "metadata": {
        "id": "X8waLLO04aaf"
      },
      "source": [
        "x ,y = training_generator.__getitem__(0)\n"
      ],
      "execution_count": null,
      "outputs": []
    },
    {
      "cell_type": "code",
      "metadata": {
        "id": "_SsB8BTL5OQL"
      },
      "source": [
        "y.shape"
      ],
      "execution_count": null,
      "outputs": []
    },
    {
      "cell_type": "code",
      "metadata": {
        "id": "1DaFjMdyenBk"
      },
      "source": [
        "\n",
        "model = models.Sequential([\n",
        "          layers.Dense(256,activation='relu'),\n",
        "          layers.Dense(128,activation='relu'),\n",
        "          layers.Dense(64,activation='relu'),\n",
        "          layers.Dense(32,activation='relu'),\n",
        "          layers.Dense(16,activation='relu'),\n",
        "          layers.Dense(11,activation='softmax'),\n",
        "\n",
        "])\n",
        "opt = tf.keras.optimizers.Adam(learning_rate=0.001)\n",
        "\n",
        "model.compile(optimizer=opt,\n",
        "            loss='sparse_categorical_crossentropy',\n",
        "            metrics=['accuracy'])\n",
        "history = model.fit(training_generator , validation_data= validation_generator, epochs = 2 )\n",
        "history"
      ],
      "execution_count": null,
      "outputs": []
    },
    {
      "cell_type": "markdown",
      "metadata": {
        "id": "akbFgP5AFPs1"
      },
      "source": [
        "## at the part below , I used the Multi-task Cascaded Convolutional Networks (MTCNN) to detect faces in frames and then detect features from those Faces using the FaceNet model , which takes too long comparing to Dlib method(which i'm going to try ) , so the main purpose here is to compare the result(using whole face features) to the one we already found using the eye_aspect_ratio \n",
        "ps : I will not use a sequence model\n",
        "\n"
      ]
    },
    {
      "cell_type": "code",
      "metadata": {
        "id": "9twyndh4GbwC"
      },
      "source": [
        "import math   # for mathematical operations\n",
        "import matplotlib.pyplot as plt    # for plotting the images\n",
        "%matplotlib inline\n",
        "import pandas as pd\n",
        "from keras.preprocessing import image   # for preprocessing the images\n",
        "import numpy as np    # for mathematical operations\n",
        "from keras.utils import np_utils\n",
        "from skimage.transform import resize   # for resizing images\n",
        "from sklearn.model_selection import train_test_split\n",
        "from glob import glob\n",
        "from tqdm import tqdm\n",
        "from google.colab.patches import cv2_imshow\n",
        "\n",
        "\n",
        "import keras\n",
        "from keras.models import Sequential\n",
        "from keras.applications.vgg16 import VGG16\n",
        "from keras.layers import Dense, InputLayer, Dropout, Flatten\n",
        "from keras.layers import Conv2D, MaxPooling2D, GlobalMaxPooling2D\n",
        "from keras.preprocessing import image\n",
        "from keras.models import Sequential\n",
        "from keras.layers import Conv2D, MaxPooling2D\n",
        "from keras.layers import Activation, Dropout, Flatten, Dense\n",
        "from keras.regularizers import l2\n",
        "from keras.preprocessing.image import ImageDataGenerator, array_to_img, img_to_array, load_img\n",
        "import numpy as np\n",
        "import pandas as pd\n",
        "import matplotlib.pyplot as plt\n",
        "from tqdm import tqdm\n",
        "from sklearn.model_selection import train_test_split\n",
        "\n",
        "from tensorflow.keras.preprocessing.image import ImageDataGenerator\n",
        "from tensorflow.keras.applications import VGG16\n",
        "from tensorflow.keras.layers import Dropout\n",
        "from tensorflow.keras.layers import Flatten\n",
        "from tensorflow.keras.layers import Dense\n",
        "from tensorflow.keras.layers import Input\n",
        "from tensorflow.keras.models import Model\n",
        "import tensorflow as tf\n",
        "from tensorflow.keras.utils import Sequence\n",
        "from tensorflow.keras import datasets ,layers,models\n",
        "\n",
        "from tensorflow.keras.optimizers import SGD\n",
        "from sklearn.metrics import classification_report\n",
        "\n",
        "from tensorflow.keras.models import Sequential\n",
        "from scipy.spatial import distance as dist\n",
        "from imutils.video import FileVideoStream\n",
        "from scipy.signal import argrelextrema\n",
        "from imutils.video import VideoStream\n",
        "#from keras_video import VideoFrameGenerator\n",
        "from imutils import face_utils\n",
        "import numpy as np\n",
        "import argparse\n",
        "#import imutils\n",
        "import time\n",
        "import dlib\n",
        "import cv2\n",
        "import os\n",
        "import glob\n",
        "\n",
        "\n",
        "# calculate a face embedding for each face in the dataset using facenet\n",
        "from numpy import load\n",
        "from numpy import expand_dims\n",
        "from numpy import asarray\n",
        "from numpy import savez_compressed\n",
        "from keras.models import load_model\n",
        "\n",
        "# calculate a face embedding for each face in the dataset using facenet\n",
        "from numpy import load\n",
        "from numpy import expand_dims\n",
        "from numpy import asarray\n",
        "from numpy import savez_compressed\n",
        "from keras.models import load_model"
      ],
      "execution_count": null,
      "outputs": []
    },
    {
      "cell_type": "code",
      "metadata": {
        "colab": {
          "base_uri": "https://localhost:8080/"
        },
        "id": "4Q8OwcWJaBqW",
        "outputId": "752791e6-ea10-452c-d594-e2a9d1fb6374"
      },
      "source": [
        "!wget   http://dlib.net/files/shape_predictor_68_face_landmarks.dat.bz2\n"
      ],
      "execution_count": null,
      "outputs": [
        {
          "output_type": "stream",
          "text": [
            "--2021-08-10 00:05:46--  http://dlib.net/files/shape_predictor_68_face_landmarks.dat.bz2\n",
            "Resolving dlib.net (dlib.net)... 107.180.26.78\n",
            "Connecting to dlib.net (dlib.net)|107.180.26.78|:80... connected.\n",
            "HTTP request sent, awaiting response... 200 OK\n",
            "Length: 64040097 (61M)\n",
            "Saving to: ‘shape_predictor_68_face_landmarks.dat.bz2’\n",
            "\n",
            "shape_predictor_68_ 100%[===================>]  61.07M  31.2MB/s    in 2.0s    \n",
            "\n",
            "2021-08-10 00:05:48 (31.2 MB/s) - ‘shape_predictor_68_face_landmarks.dat.bz2’ saved [64040097/64040097]\n",
            "\n"
          ],
          "name": "stdout"
        }
      ]
    },
    {
      "cell_type": "code",
      "metadata": {
        "id": "ISiAIdJ2caXI"
      },
      "source": [
        "!bunzip2 /content/shape_predictor_68_face_landmarks.dat.bz2\n"
      ],
      "execution_count": null,
      "outputs": []
    },
    {
      "cell_type": "code",
      "metadata": {
        "colab": {
          "base_uri": "https://localhost:8080/"
        },
        "id": "al_Q6bwbi3Sc",
        "outputId": "172ff7ca-8cd8-4b57-d58b-d8b9e3628cba"
      },
      "source": [
        "!wget https://github.com/davisking/dlib-models/raw/master/mmod_human_face_detector.dat.bz2"
      ],
      "execution_count": null,
      "outputs": [
        {
          "output_type": "stream",
          "text": [
            "--2021-08-10 00:06:06--  https://github.com/davisking/dlib-models/raw/master/mmod_human_face_detector.dat.bz2\n",
            "Resolving github.com (github.com)... 140.82.113.3\n",
            "Connecting to github.com (github.com)|140.82.113.3|:443... connected.\n",
            "HTTP request sent, awaiting response... 302 Found\n",
            "Location: https://raw.githubusercontent.com/davisking/dlib-models/master/mmod_human_face_detector.dat.bz2 [following]\n",
            "--2021-08-10 00:06:06--  https://raw.githubusercontent.com/davisking/dlib-models/master/mmod_human_face_detector.dat.bz2\n",
            "Resolving raw.githubusercontent.com (raw.githubusercontent.com)... 185.199.108.133, 185.199.109.133, 185.199.110.133, ...\n",
            "Connecting to raw.githubusercontent.com (raw.githubusercontent.com)|185.199.108.133|:443... connected.\n",
            "HTTP request sent, awaiting response... 200 OK\n",
            "Length: 694687 (678K) [application/octet-stream]\n",
            "Saving to: ‘mmod_human_face_detector.dat.bz2’\n",
            "\n",
            "mmod_human_face_det 100%[===================>] 678.41K  --.-KB/s    in 0.03s   \n",
            "\n",
            "2021-08-10 00:06:07 (20.0 MB/s) - ‘mmod_human_face_detector.dat.bz2’ saved [694687/694687]\n",
            "\n"
          ],
          "name": "stdout"
        }
      ]
    },
    {
      "cell_type": "code",
      "metadata": {
        "id": "lJ-NYfl5jFvB"
      },
      "source": [
        "!bunzip2 /content/mmod_human_face_detector.dat.bz2"
      ],
      "execution_count": null,
      "outputs": []
    },
    {
      "cell_type": "code",
      "metadata": {
        "id": "RPLYgv-Ccd2Z"
      },
      "source": [
        "detector = dlib.cnn_face_detection_model_v1('/content/mmod_human_face_detector.dat')"
      ],
      "execution_count": null,
      "outputs": []
    },
    {
      "cell_type": "code",
      "metadata": {
        "id": "MSUAUwckcju0"
      },
      "source": [
        "#next step is to collect all the videos in one folder and take the first character of their name which is the label \n",
        "#path to videos folder\n",
        "path = '/content/gdrive/MyDrive/variables/Fold2_part2'\n",
        "#list of subfolders ID, os.listdir(path)[0] is for the validation data\n",
        "train_ID = os.listdir(path)[1:]\n",
        "class VideoFrameGenerator(Sequence):\n",
        "    'Generates data for Keras'\n",
        "    def __init__(self,train_ID ,model_facenet,  batch_size=1, dim=(56,56), shuffle=True):\n",
        "        'Initialization'\n",
        "        self.batch_size = batch_size\n",
        "        self.train_ID = train_ID   \n",
        "        self.shuffle = shuffle\n",
        "        self.model_facenet = model_facenet\n",
        "        self.dim = dim\n",
        "        self.on_epoch_end()\n",
        "    def __len__(self):\n",
        "        'Denotes the number of batches per epoch'\n",
        "        return int(np.floor(len(self.train_ID) / self.batch_size))\n",
        "\n",
        "    def __getitem__(self, index):\n",
        "        'Generate one batch of data'\n",
        "        # Generate indexes of the batch\n",
        "        indexes = self.indexes[index*self.batch_size:(index+1)*self.batch_size]\n",
        "        # Find list of IDs\n",
        "        list_IDs_temp = [self.train_ID[k] for k in indexes]\n",
        "        #list_IDs_temp = [20]\n",
        "        # Generate data\n",
        "        X, y = self.__data_generation(list_IDs_temp)\n",
        "        #X =  np.array([X])[0]\n",
        "        #y =  np.array([y])\n",
        "        #y = y.reshape(y.shape[1],1)\n",
        "        return X , y \n",
        "\n",
        "    def on_epoch_end(self):\n",
        "        'Updates indexes after each epoch'\n",
        "        self.indexes = np.arange(len(self.train_ID))\n",
        "        if self.shuffle == True:\n",
        "            np.random.shuffle(self.indexes)\n",
        "\n",
        "    def __data_generation(self, list_IDs_temp):\n",
        "\n",
        "        'Generates data containing batch_size samples' # X : (n_samples, *dim, n_channels)\n",
        "        # Initialization\n",
        "        #X = np.empty((self.batch_size, *self.dim, self.n_channels))\n",
        "        #y = np.empty((self.batch_size), dtype=int)\n",
        "        arr_1 = os.listdir(f'/content/gdrive/MyDrive/variables/Fold2_part2/{list_IDs_temp[0]}')\n",
        "        # Generate data\n",
        "        label_train  = np.array([]).reshape(0,1)\n",
        "        Frame_train = np.array([]).reshape(0,128)\n",
        "        for path_3 in arr_1 :\n",
        "            #labeling the data using the title of videos \n",
        "            label = int(os.path.splitext(path_3)[0])\n",
        "            full_path_2 = f'/content/gdrive/MyDrive/variables/Fold2_part2/{list_IDs_temp[0]}/{path_3}'\n",
        "            # Opens the Video file\n",
        "            \n",
        "            vs = cv2.VideoCapture(full_path_2)\n",
        "            nb_frame = 1        \n",
        "            while True : \n",
        "              print(nb_frame)\n",
        "              ret, image = vs.read()\n",
        "              if ret == False or nb_frame == 1000 : \n",
        "                  break      \n",
        "              image = cv2.cvtColor(image, cv2.COLOR_BGR2RGB)\n",
        "              #print(image.shape)\n",
        "              rects = detector(image, 1)\n",
        "              for face in rects:      \n",
        "                x1 = face.rect.left() # left point\n",
        "                y1 = face.rect.top() # top point\n",
        "                x2 = face.rect.right() # right point\n",
        "                y2 = face.rect.bottom() # bottom point\n",
        "                img = image[y1:y2,x1:x2]\n",
        "                #cv2_imshow(img)\n",
        "                img = cv2.resize(image, (160,160))\n",
        "                if  img.size == 0 :                \n",
        "                    #face_features = np.array([]).reshape(0,128)\n",
        "                    nb_frame += 1 \n",
        "                else : \n",
        "                    \n",
        "                    face_features = get_embedding(self.model_facenet , img)             \n",
        "                    face_features = np.array(face_features) \n",
        "                    face_features = face_features.reshape(1,128)\n",
        "                    label_train = np.append(label_train , label)\n",
        "                    Frame_train = np.append(Frame_train , face_features ,axis=0)\n",
        "                    nb_frame += 1 \n",
        "                #image = image.img_to_array(image)\n",
        "                #label_train = np.append(label_train , label)\n",
        "                #Frame_train = np.append(Frame_train , face_features ,axis=0)\n",
        "              \n",
        "            vs.release()\n",
        "            cv2.destroyAllWindows()\n",
        "        return Frame_train, label_train.reshape(label_train.shape[0]).astype(int)\n",
        "     "
      ],
      "execution_count": null,
      "outputs": []
    },
    {
      "cell_type": "code",
      "metadata": {
        "id": "7WQ1pE6pYFUw"
      },
      "source": [
        "path = '/content/gdrive/MyDrive/variables/Fold2_part2'\n",
        "train_ID = os.listdir(path)[1:]\n",
        "\n",
        "# Parameters\n",
        "params = {'model_facenet' : model_facenet , \n",
        "          'batch_size': 1,\n",
        "          'shuffle': True}\n",
        "training_generator = VideoFrameGenerator(train_ID, **params)\n",
        "validation_generator = VideoFrameGenerator([os.listdir(path)[0]], **params)"
      ],
      "execution_count": null,
      "outputs": []
    },
    {
      "cell_type": "code",
      "metadata": {
        "id": "TR0kBvOQYgdB"
      },
      "source": [
        "x ,y = training_generator.__getitem__(0)\n"
      ],
      "execution_count": null,
      "outputs": []
    },
    {
      "cell_type": "code",
      "metadata": {
        "colab": {
          "base_uri": "https://localhost:8080/"
        },
        "id": "mschfyVuZVSE",
        "outputId": "7c39898d-9f6d-49d5-e4b6-7a32953b0ed8"
      },
      "source": [
        "print(train_ID )"
      ],
      "execution_count": null,
      "outputs": [
        {
          "output_type": "stream",
          "text": [
            "['23', '19', '21', '24', '20']\n"
          ],
          "name": "stdout"
        }
      ]
    },
    {
      "cell_type": "code",
      "metadata": {
        "id": "0bJoNLMzebyf"
      },
      "source": [
        "path = '/content/gdrive/MyDrive/variables/Fold2_part2'\n"
      ],
      "execution_count": null,
      "outputs": []
    },
    {
      "cell_type": "code",
      "metadata": {
        "id": "3Ueom2ODektq"
      },
      "source": [
        "arr = os.listdir(path)"
      ],
      "execution_count": null,
      "outputs": []
    },
    {
      "cell_type": "code",
      "metadata": {
        "colab": {
          "base_uri": "https://localhost:8080/"
        },
        "id": "1sbDFdWienQh",
        "outputId": "e05e8997-bc9e-45d6-b69b-bde98079c25d"
      },
      "source": [
        "arr"
      ],
      "execution_count": null,
      "outputs": [
        {
          "output_type": "execute_result",
          "data": {
            "text/plain": [
              "['22', '23', '19', '21', '24', '20']"
            ]
          },
          "metadata": {
            "tags": []
          },
          "execution_count": 53
        }
      ]
    },
    {
      "cell_type": "code",
      "metadata": {
        "id": "8LwhvXeseqRC"
      },
      "source": [
        ""
      ],
      "execution_count": null,
      "outputs": []
    }
  ]
}